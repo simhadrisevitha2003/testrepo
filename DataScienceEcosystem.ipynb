{
 "cells": [
  {
   "cell_type": "markdown",
   "id": "b2cb6a35-19b4-4558-b4a7-309d471aeb09",
   "metadata": {},
   "source": [
    "# Data Science Tools and Ecosystem"
   ]
  },
  {
   "cell_type": "markdown",
   "id": "98d60aa5-a338-4814-9d16-ff4042eaca92",
   "metadata": {},
   "source": [
    "In this notebook, Data Science Tools and Ecosystem are summarized."
   ]
  },
  {
   "cell_type": "markdown",
   "id": "de1afa8a-322d-41ef-8dd6-8e529f612334",
   "metadata": {},
   "source": [
    "**Objectives:**\n",
    "- List popular languages for Data Science\n",
    "- List commonly used libraries in Data Science\n",
    "- Tabulate Data Science Tools\n",
    "- Evaluating Arithmetic expression in python"
   ]
  },
  {
   "cell_type": "markdown",
   "id": "b8afcc02-2060-425c-8f94-ad44ecd23dd7",
   "metadata": {},
   "source": [
    "Some of the popular languages that Data Scientists use are:\n",
    "1. Python\n",
    "2. R\n",
    "3. SQL"
   ]
  },
  {
   "cell_type": "markdown",
   "id": "1a396b09-ca2a-425f-abe1-f27e4d8261d7",
   "metadata": {},
   "source": [
    "Some of the commonly used libraries used by Data Scientists include:\n",
    "1. Pandas\n",
    "2. NumPy\n",
    "3. Matplotlib"
   ]
  },
  {
   "cell_type": "markdown",
   "id": "242dd288-77c3-4acf-a683-d2a462af7a11",
   "metadata": {},
   "source": [
    "| Data Science Tools |\n",
    "| ------------------ |\n",
    "| RStudio |\n",
    "| Apache Spark |\n",
    "| Apache Hadoop |"
   ]
  },
  {
   "cell_type": "markdown",
   "id": "6c4688e5-9a3a-4e92-a99b-77487807c5fc",
   "metadata": {},
   "source": [
    "### Below are a few examples of evaluating arithmetic expressions in Python"
   ]
  },
  {
   "cell_type": "code",
   "execution_count": 1,
   "id": "f94d1d4d-f8cd-4ec6-bdc9-d8cc59df15fc",
   "metadata": {
    "tags": []
   },
   "outputs": [
    {
     "name": "stdout",
     "output_type": "stream",
     "text": [
      "17\n"
     ]
    }
   ],
   "source": [
    "# This a simple arithmetic expression to mutiply then add integers\n",
    "print((3*4)+5)"
   ]
  },
  {
   "cell_type": "code",
   "execution_count": 15,
   "id": "2f041be5-8e37-4999-9510-e4656f688a9e",
   "metadata": {
    "tags": []
   },
   "outputs": [
    {
     "name": "stdout",
     "output_type": "stream",
     "text": [
      "3.3333333333333335 hr\n",
      "Round off:\n",
      "3 hr\n"
     ]
    }
   ],
   "source": [
    "# This will convert 200 minutes to hours by diving by 60\n",
    "mins1 = 200/60\n",
    "mins = round(mins1)\n",
    "print(str(mins1) + \" hr\")\n",
    "print(\"Round off:\")\n",
    "print(str(mins) + \" hr\")"
   ]
  },
  {
   "cell_type": "markdown",
   "id": "99181576-0ff4-4a19-b691-3b1c6c725415",
   "metadata": {},
   "source": [
    "## Author\n",
    "Simhadri Sevitha"
   ]
  }
 ],
 "metadata": {
  "kernelspec": {
   "display_name": "Python",
   "language": "python",
   "name": "conda-env-python-py"
  },
  "language_info": {
   "codemirror_mode": {
    "name": "ipython",
    "version": 3
   },
   "file_extension": ".py",
   "mimetype": "text/x-python",
   "name": "python",
   "nbconvert_exporter": "python",
   "pygments_lexer": "ipython3",
   "version": "3.7.12"
  }
 },
 "nbformat": 4,
 "nbformat_minor": 5
}
